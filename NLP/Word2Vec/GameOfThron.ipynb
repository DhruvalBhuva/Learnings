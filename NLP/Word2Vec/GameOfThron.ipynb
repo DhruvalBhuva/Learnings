{
 "cells": [
  {
   "cell_type": "code",
   "execution_count": 33,
   "metadata": {},
   "outputs": [],
   "source": [
    "import numpy as np\n",
    "import pandas as pd\n",
    "import gensim\n",
    "import os\n",
    "from nltk import sent_tokenize\n",
    "from gensim.utils import simple_preprocess\n",
    "from nltk.corpus import stopwords"
   ]
  },
  {
   "cell_type": "code",
   "execution_count": 37,
   "metadata": {},
   "outputs": [],
   "source": [
    "story = []\n",
    "\n",
    "for filename in os.listdir('Dataset'):\n",
    "    file = open(os.path.join(\"Dataset\", filename))\n",
    "    corpus = file.read()\n",
    "    raw_sentence = sent_tokenize(corpus)\n",
    "    for sentence in raw_sentence:\n",
    "        # removeing stopwords\n",
    "        # sentence = [word for word in sentence.lower(\n",
    "        # ).split() if word not in stopwords.words('english')]\n",
    "        # sentence = ' '.join(sentence)\n",
    "        story.append(simple_preprocess(sentence))"
   ]
  },
  {
   "cell_type": "code",
   "execution_count": 8,
   "metadata": {},
   "outputs": [
    {
     "name": "stdout",
     "output_type": "stream",
     "text": [
      "145020\n"
     ]
    }
   ],
   "source": [
    "print(len(story))\n",
    "# story"
   ]
  },
  {
   "cell_type": "code",
   "execution_count": 10,
   "metadata": {},
   "outputs": [],
   "source": [
    "# window: The maximum distance between the current and predicted word within a sentence.\n",
    "# min_count: Ignores all words with total frequency lower than this.\n",
    "# workers: Use these many worker threads to train the model (=faster training with multicore machines).\n",
    "model = gensim.models.Word2Vec(\n",
    "    window=10, min_count=2, workers=4, vector_size=100)"
   ]
  },
  {
   "cell_type": "code",
   "execution_count": 11,
   "metadata": {},
   "outputs": [],
   "source": [
    "model.build_vocab(story)"
   ]
  },
  {
   "cell_type": "code",
   "execution_count": 12,
   "metadata": {},
   "outputs": [
    {
     "data": {
      "text/plain": [
       "(6569022, 8628190)"
      ]
     },
     "execution_count": 12,
     "metadata": {},
     "output_type": "execute_result"
    }
   ],
   "source": [
    "model.train(story, total_examples=model.corpus_count, epochs=model.epochs)"
   ]
  },
  {
   "cell_type": "code",
   "execution_count": 13,
   "metadata": {},
   "outputs": [
    {
     "data": {
      "text/plain": [
       "[('stormborn', 0.7923920750617981),\n",
       " ('targaryen', 0.7917531132698059),\n",
       " ('princess', 0.7315335273742676),\n",
       " ('elia', 0.7229293584823608),\n",
       " ('unburnt', 0.7199075222015381),\n",
       " ('rhaegar', 0.6851088404655457),\n",
       " ('aegon', 0.6839161515235901),\n",
       " ('myrcella', 0.6771818995475769),\n",
       " ('queen', 0.675822377204895),\n",
       " ('jenny', 0.6747910976409912)]"
      ]
     },
     "execution_count": 13,
     "metadata": {},
     "output_type": "execute_result"
    }
   ],
   "source": [
    "# It will print all the words related daenerys\n",
    "model.wv.most_similar(\"daenerys\")"
   ]
  },
  {
   "cell_type": "code",
   "execution_count": 17,
   "metadata": {},
   "outputs": [
    {
     "data": {
      "text/plain": [
       "'jon'"
      ]
     },
     "execution_count": 17,
     "metadata": {},
     "output_type": "execute_result"
    }
   ],
   "source": [
    "# \"Jon\" is diffrent from others, others are cousins\n",
    "model.wv.doesnt_match([\"jon\", \"rikon\", \"robb\", \"arya\", \"sansa\", \"bran\"])"
   ]
  },
  {
   "cell_type": "code",
   "execution_count": 18,
   "metadata": {},
   "outputs": [
    {
     "data": {
      "text/plain": [
       "'bronn'"
      ]
     },
     "execution_count": 18,
     "metadata": {},
     "output_type": "execute_result"
    }
   ],
   "source": [
    "# bronn is diffrent from others\n",
    "model.wv.doesnt_match([\"cersei\", \"jaime\", \"bronn\", \"tyrion\"])"
   ]
  },
  {
   "cell_type": "code",
   "execution_count": 16,
   "metadata": {},
   "outputs": [
    {
     "data": {
      "text/plain": [
       "array([-0.444146  , -0.7432829 , -1.2598553 , -0.92181116,  0.10688794,\n",
       "       -0.60944104,  0.50321895,  0.48778677, -2.1468153 , -0.3138522 ,\n",
       "       -1.518409  ,  0.4818032 ,  0.43263495, -2.3630474 ,  0.01018729,\n",
       "       -0.32954967,  0.5164952 ,  3.47644   ,  1.0148877 , -0.5321463 ,\n",
       "        2.1642606 , -2.5362906 , -0.8403213 ,  1.9357666 , -0.22616406,\n",
       "       -1.56578   ,  2.0944457 ,  0.7115423 ,  0.72849387, -0.8910567 ,\n",
       "       -2.1558921 , -1.0010891 , -0.0887501 , -1.7853795 ,  1.7669979 ,\n",
       "        0.6649412 ,  1.0149761 ,  0.00538142,  0.46163526, -1.3363612 ,\n",
       "       -1.0228379 , -1.7552032 ,  0.28748938,  1.0717545 ,  1.0243027 ,\n",
       "       -3.2778132 , -0.01607786,  1.3288836 , -1.6610186 , -0.03832102,\n",
       "        0.03196004, -0.4541148 ,  2.0480604 , -0.5190655 , -0.61130357,\n",
       "       -0.7441726 , -0.72403413, -1.9356238 ,  0.13987395, -0.19436942,\n",
       "        1.5313241 ,  0.95564854,  0.52567005, -1.6767005 ,  0.2504308 ,\n",
       "       -0.19599454,  0.71388507,  3.2163851 ,  0.24078506, -0.2062643 ,\n",
       "        0.96078694, -0.6570385 ,  0.32526815, -1.5453473 , -0.0415359 ,\n",
       "        1.9517154 , -1.7529044 ,  2.0349388 , -0.30314574, -0.48519933,\n",
       "       -1.3795117 , -2.662729  , -0.09052433, -0.08330174, -2.6437027 ,\n",
       "        1.6191812 , -0.76464945, -0.8251634 ,  1.2640457 , -2.1676102 ,\n",
       "       -0.44471216,  2.5746167 ,  0.44978037, -0.30594257,  2.1386247 ,\n",
       "       -2.8280222 ,  0.00569262, -2.1513658 ,  0.36774424, -0.12661564],\n",
       "      dtype=float32)"
      ]
     },
     "execution_count": 16,
     "metadata": {},
     "output_type": "execute_result"
    }
   ],
   "source": [
    "# Vector of \"jon\"\n",
    "model.wv[\"jon\"]"
   ]
  },
  {
   "cell_type": "code",
   "execution_count": 19,
   "metadata": {},
   "outputs": [
    {
     "data": {
      "text/plain": [
       "0.853336"
      ]
     },
     "execution_count": 19,
     "metadata": {},
     "output_type": "execute_result"
    }
   ],
   "source": [
    "# Arya and sansa are sister so high similarity\n",
    "model.wv.similarity(\"arya\", \"sansa\")"
   ]
  },
  {
   "cell_type": "code",
   "execution_count": 20,
   "metadata": {},
   "outputs": [
    {
     "data": {
      "text/plain": [
       "0.24163988"
      ]
     },
     "execution_count": 20,
     "metadata": {},
     "output_type": "execute_result"
    }
   ],
   "source": [
    "# tywin and sansa are diffrent so low similarity\n",
    "model.wv.similarity(\"tywin\", \"sansa\")"
   ]
  },
  {
   "cell_type": "markdown",
   "metadata": {},
   "source": [
    "#### To show that vector we can use PCA to reduce dimentions\n"
   ]
  },
  {
   "cell_type": "code",
   "execution_count": 21,
   "metadata": {},
   "outputs": [
    {
     "data": {
      "text/plain": [
       "array([[-0.10899297, -0.02549146,  0.11918868, ..., -0.02971656,\n",
       "         0.07672407,  0.15471824],\n",
       "       [-0.12935168, -0.15842023,  0.16181141, ...,  0.04149918,\n",
       "        -0.21425322,  0.04247783],\n",
       "       [ 0.12881252,  0.00394801,  0.00448241, ...,  0.0533753 ,\n",
       "        -0.02457772, -0.03714726],\n",
       "       ...,\n",
       "       [ 0.05603361,  0.02748746, -0.09801928, ..., -0.15355676,\n",
       "         0.06986222, -0.1886574 ],\n",
       "       [ 0.00258152,  0.01536783,  0.18698503, ...,  0.06992401,\n",
       "         0.1460495 , -0.03570397],\n",
       "       [-0.06998096,  0.03929054,  0.09199707, ..., -0.07180195,\n",
       "         0.1109774 , -0.04749938]], dtype=float32)"
      ]
     },
     "execution_count": 21,
     "metadata": {},
     "output_type": "execute_result"
    }
   ],
   "source": [
    "# get_normed_vectors: Return all vectors normalized to unit length.\n",
    "model.wv.get_normed_vectors()"
   ]
  },
  {
   "cell_type": "code",
   "execution_count": 22,
   "metadata": {},
   "outputs": [
    {
     "data": {
      "text/plain": [
       "(17453, 100)"
      ]
     },
     "execution_count": 22,
     "metadata": {},
     "output_type": "execute_result"
    }
   ],
   "source": [
    "model.wv.get_normed_vectors().shape"
   ]
  },
  {
   "cell_type": "code",
   "execution_count": 25,
   "metadata": {},
   "outputs": [
    {
     "name": "stdout",
     "output_type": "stream",
     "text": [
      "17453\n"
     ]
    }
   ],
   "source": [
    "# index_to_key use for Get the word from index\n",
    "y = model.wv.index_to_key\n",
    "# print(y)\n",
    "print(len(y))"
   ]
  },
  {
   "cell_type": "code",
   "execution_count": 26,
   "metadata": {},
   "outputs": [],
   "source": [
    "from sklearn.decomposition import PCA\n",
    "pca = PCA(n_components=3)"
   ]
  },
  {
   "cell_type": "code",
   "execution_count": 27,
   "metadata": {},
   "outputs": [],
   "source": [
    "X = pca.fit_transform(model.wv.get_normed_vectors())"
   ]
  },
  {
   "cell_type": "code",
   "execution_count": 29,
   "metadata": {},
   "outputs": [
    {
     "data": {
      "text/plain": [
       "(17453, 3)"
      ]
     },
     "execution_count": 29,
     "metadata": {},
     "output_type": "execute_result"
    }
   ],
   "source": [
    "X.shape"
   ]
  },
  {
   "cell_type": "code",
   "execution_count": 28,
   "metadata": {},
   "outputs": [
    {
     "data": {
      "text/plain": [
       "array([[-0.15509878,  0.59484065, -0.06524827],\n",
       "       [-0.16353396,  0.34728566,  0.00340085],\n",
       "       [ 0.30946556,  0.5712521 ,  0.21582179],\n",
       "       [-0.00132891,  0.36319765, -0.14365149],\n",
       "       [ 0.12089884,  0.55755407,  0.2929132 ]], dtype=float32)"
      ]
     },
     "execution_count": 28,
     "metadata": {},
     "output_type": "execute_result"
    }
   ],
   "source": [
    "X[:5]"
   ]
  },
  {
   "cell_type": "code",
   "execution_count": 32,
   "metadata": {},
   "outputs": [
    {
     "data": {
      "application/vnd.plotly.v1+json": {
       "config": {
        "plotlyServerURL": "https://plot.ly"
       },
       "data": [
        {
         "hovertemplate": "color=the<br>0=%{x}<br>1=%{y}<br>2=%{z}<extra></extra>",
         "legendgroup": "the",
         "marker": {
          "color": "#636efa",
          "symbol": "circle"
         },
         "mode": "markers",
         "name": "the",
         "scene": "scene",
         "showlegend": true,
         "type": "scatter3d",
         "x": [
          -0.1550987809896469
         ],
         "y": [
          0.5948406457901001
         ],
         "z": [
          -0.0652482733130455
         ]
        },
        {
         "hovertemplate": "color=and<br>0=%{x}<br>1=%{y}<br>2=%{z}<extra></extra>",
         "legendgroup": "and",
         "marker": {
          "color": "#EF553B",
          "symbol": "circle"
         },
         "mode": "markers",
         "name": "and",
         "scene": "scene",
         "showlegend": true,
         "type": "scatter3d",
         "x": [
          -0.16353395581245422
         ],
         "y": [
          0.347285658121109
         ],
         "z": [
          0.0034008456859737635
         ]
        },
        {
         "hovertemplate": "color=to<br>0=%{x}<br>1=%{y}<br>2=%{z}<extra></extra>",
         "legendgroup": "to",
         "marker": {
          "color": "#00cc96",
          "symbol": "circle"
         },
         "mode": "markers",
         "name": "to",
         "scene": "scene",
         "showlegend": true,
         "type": "scatter3d",
         "x": [
          0.30946555733680725
         ],
         "y": [
          0.5712521076202393
         ],
         "z": [
          0.2158217877149582
         ]
        },
        {
         "hovertemplate": "color=of<br>0=%{x}<br>1=%{y}<br>2=%{z}<extra></extra>",
         "legendgroup": "of",
         "marker": {
          "color": "#ab63fa",
          "symbol": "circle"
         },
         "mode": "markers",
         "name": "of",
         "scene": "scene",
         "showlegend": true,
         "type": "scatter3d",
         "x": [
          -0.0013289093039929867
         ],
         "y": [
          0.3631976544857025
         ],
         "z": [
          -0.14365148544311523
         ]
        },
        {
         "hovertemplate": "color=he<br>0=%{x}<br>1=%{y}<br>2=%{z}<extra></extra>",
         "legendgroup": "he",
         "marker": {
          "color": "#FFA15A",
          "symbol": "circle"
         },
         "mode": "markers",
         "name": "he",
         "scene": "scene",
         "showlegend": true,
         "type": "scatter3d",
         "x": [
          0.12089883536100388
         ],
         "y": [
          0.5575540661811829
         ],
         "z": [
          0.29291319847106934
         ]
        },
        {
         "hovertemplate": "color=his<br>0=%{x}<br>1=%{y}<br>2=%{z}<extra></extra>",
         "legendgroup": "his",
         "marker": {
          "color": "#19d3f3",
          "symbol": "circle"
         },
         "mode": "markers",
         "name": "his",
         "scene": "scene",
         "showlegend": true,
         "type": "scatter3d",
         "x": [
          -0.0320671983063221
         ],
         "y": [
          0.32184505462646484
         ],
         "z": [
          0.3187830150127411
         ]
        },
        {
         "hovertemplate": "color=was<br>0=%{x}<br>1=%{y}<br>2=%{z}<extra></extra>",
         "legendgroup": "was",
         "marker": {
          "color": "#FF6692",
          "symbol": "circle"
         },
         "mode": "markers",
         "name": "was",
         "scene": "scene",
         "showlegend": true,
         "type": "scatter3d",
         "x": [
          0.1134772002696991
         ],
         "y": [
          0.39700984954833984
         ],
         "z": [
          0.2953382432460785
         ]
        },
        {
         "hovertemplate": "color=you<br>0=%{x}<br>1=%{y}<br>2=%{z}<extra></extra>",
         "legendgroup": "you",
         "marker": {
          "color": "#B6E880",
          "symbol": "circle"
         },
         "mode": "markers",
         "name": "you",
         "scene": "scene",
         "showlegend": true,
         "type": "scatter3d",
         "x": [
          0.5618928670883179
         ],
         "y": [
          0.6171659231185913
         ],
         "z": [
          0.16275522112846375
         ]
        },
        {
         "hovertemplate": "color=her<br>0=%{x}<br>1=%{y}<br>2=%{z}<extra></extra>",
         "legendgroup": "her",
         "marker": {
          "color": "#FF97FF",
          "symbol": "circle"
         },
         "mode": "markers",
         "name": "her",
         "scene": "scene",
         "showlegend": true,
         "type": "scatter3d",
         "x": [
          0.011985872872173786
         ],
         "y": [
          0.4141773283481598
         ],
         "z": [
          0.34552592039108276
         ]
        },
        {
         "hovertemplate": "color=in<br>0=%{x}<br>1=%{y}<br>2=%{z}<extra></extra>",
         "legendgroup": "in",
         "marker": {
          "color": "#FECB52",
          "symbol": "circle"
         },
         "mode": "markers",
         "name": "in",
         "scene": "scene",
         "showlegend": true,
         "type": "scatter3d",
         "x": [
          -0.05659251660108566
         ],
         "y": [
          0.43759045004844666
         ],
         "z": [
          0.06816582381725311
         ]
        },
        {
         "hovertemplate": "color=it<br>0=%{x}<br>1=%{y}<br>2=%{z}<extra></extra>",
         "legendgroup": "it",
         "marker": {
          "color": "#636efa",
          "symbol": "circle"
         },
         "mode": "markers",
         "name": "it",
         "scene": "scene",
         "showlegend": true,
         "type": "scatter3d",
         "x": [
          0.11356565356254578
         ],
         "y": [
          0.6269400715827942
         ],
         "z": [
          0.26820361614227295
         ]
        },
        {
         "hovertemplate": "color=had<br>0=%{x}<br>1=%{y}<br>2=%{z}<extra></extra>",
         "legendgroup": "had",
         "marker": {
          "color": "#EF553B",
          "symbol": "circle"
         },
         "mode": "markers",
         "name": "had",
         "scene": "scene",
         "showlegend": true,
         "type": "scatter3d",
         "x": [
          0.1334359049797058
         ],
         "y": [
          0.5061403512954712
         ],
         "z": [
          0.15631534159183502
         ]
        },
        {
         "hovertemplate": "color=that<br>0=%{x}<br>1=%{y}<br>2=%{z}<extra></extra>",
         "legendgroup": "that",
         "marker": {
          "color": "#00cc96",
          "symbol": "circle"
         },
         "mode": "markers",
         "name": "that",
         "scene": "scene",
         "showlegend": true,
         "type": "scatter3d",
         "x": [
          0.3450701832771301
         ],
         "y": [
          0.5975114703178406
         ],
         "z": [
          0.10673573613166809
         ]
        },
        {
         "hovertemplate": "color=she<br>0=%{x}<br>1=%{y}<br>2=%{z}<extra></extra>",
         "legendgroup": "she",
         "marker": {
          "color": "#ab63fa",
          "symbol": "circle"
         },
         "mode": "markers",
         "name": "she",
         "scene": "scene",
         "showlegend": true,
         "type": "scatter3d",
         "x": [
          0.08312054723501205
         ],
         "y": [
          0.5357217788696289
         ],
         "z": [
          0.296245276927948
         ]
        },
        {
         "hovertemplate": "color=as<br>0=%{x}<br>1=%{y}<br>2=%{z}<extra></extra>",
         "legendgroup": "as",
         "marker": {
          "color": "#FFA15A",
          "symbol": "circle"
         },
         "mode": "markers",
         "name": "as",
         "scene": "scene",
         "showlegend": true,
         "type": "scatter3d",
         "x": [
          0.0212288536131382
         ],
         "y": [
          0.4866445064544678
         ],
         "z": [
          0.23916393518447876
         ]
        },
        {
         "hovertemplate": "color=with<br>0=%{x}<br>1=%{y}<br>2=%{z}<extra></extra>",
         "legendgroup": "with",
         "marker": {
          "color": "#19d3f3",
          "symbol": "circle"
         },
         "mode": "markers",
         "name": "with",
         "scene": "scene",
         "showlegend": true,
         "type": "scatter3d",
         "x": [
          -0.12783269584178925
         ],
         "y": [
          0.2655276656150818
         ],
         "z": [
          0.16974462568759918
         ]
        },
        {
         "hovertemplate": "color=him<br>0=%{x}<br>1=%{y}<br>2=%{z}<extra></extra>",
         "legendgroup": "him",
         "marker": {
          "color": "#FF6692",
          "symbol": "circle"
         },
         "mode": "markers",
         "name": "him",
         "scene": "scene",
         "showlegend": true,
         "type": "scatter3d",
         "x": [
          0.13669998943805695
         ],
         "y": [
          0.5368692874908447
         ],
         "z": [
          0.30076906085014343
         ]
        },
        {
         "hovertemplate": "color=not<br>0=%{x}<br>1=%{y}<br>2=%{z}<extra></extra>",
         "legendgroup": "not",
         "marker": {
          "color": "#B6E880",
          "symbol": "circle"
         },
         "mode": "markers",
         "name": "not",
         "scene": "scene",
         "showlegend": true,
         "type": "scatter3d",
         "x": [
          0.4735855162143707
         ],
         "y": [
          0.5723830461502075
         ],
         "z": [
          0.19340765476226807
         ]
        },
        {
         "hovertemplate": "color=but<br>0=%{x}<br>1=%{y}<br>2=%{z}<extra></extra>",
         "legendgroup": "but",
         "marker": {
          "color": "#FF97FF",
          "symbol": "circle"
         },
         "mode": "markers",
         "name": "but",
         "scene": "scene",
         "showlegend": true,
         "type": "scatter3d",
         "x": [
          0.23692500591278076
         ],
         "y": [
          0.6281458139419556
         ],
         "z": [
          0.1912798285484314
         ]
        },
        {
         "hovertemplate": "color=for<br>0=%{x}<br>1=%{y}<br>2=%{z}<extra></extra>",
         "legendgroup": "for",
         "marker": {
          "color": "#FECB52",
          "symbol": "circle"
         },
         "mode": "markers",
         "name": "for",
         "scene": "scene",
         "showlegend": true,
         "type": "scatter3d",
         "x": [
          0.4631478488445282
         ],
         "y": [
          0.5058456063270569
         ],
         "z": [
          0.16954785585403442
         ]
        },
        {
         "hovertemplate": "color=they<br>0=%{x}<br>1=%{y}<br>2=%{z}<extra></extra>",
         "legendgroup": "they",
         "marker": {
          "color": "#636efa",
          "symbol": "circle"
         },
         "mode": "markers",
         "name": "they",
         "scene": "scene",
         "showlegend": true,
         "type": "scatter3d",
         "x": [
          0.03815004974603653
         ],
         "y": [
          0.7095748782157898
         ],
         "z": [
          -0.06272819638252258
         ]
        },
        {
         "hovertemplate": "color=is<br>0=%{x}<br>1=%{y}<br>2=%{z}<extra></extra>",
         "legendgroup": "is",
         "marker": {
          "color": "#EF553B",
          "symbol": "circle"
         },
         "mode": "markers",
         "name": "is",
         "scene": "scene",
         "showlegend": true,
         "type": "scatter3d",
         "x": [
          0.5866689085960388
         ],
         "y": [
          0.46826672554016113
         ],
         "z": [
          0.16173067688941956
         ]
        },
        {
         "hovertemplate": "color=at<br>0=%{x}<br>1=%{y}<br>2=%{z}<extra></extra>",
         "legendgroup": "at",
         "marker": {
          "color": "#00cc96",
          "symbol": "circle"
         },
         "mode": "markers",
         "name": "at",
         "scene": "scene",
         "showlegend": true,
         "type": "scatter3d",
         "x": [
          0.05274854972958565
         ],
         "y": [
          0.4052349627017975
         ],
         "z": [
          0.307304710149765
         ]
        },
        {
         "hovertemplate": "color=on<br>0=%{x}<br>1=%{y}<br>2=%{z}<extra></extra>",
         "legendgroup": "on",
         "marker": {
          "color": "#ab63fa",
          "symbol": "circle"
         },
         "mode": "markers",
         "name": "on",
         "scene": "scene",
         "showlegend": true,
         "type": "scatter3d",
         "x": [
          -0.18120592832565308
         ],
         "y": [
          0.48594510555267334
         ],
         "z": [
          0.21722903847694397
         ]
        },
        {
         "hovertemplate": "color=said<br>0=%{x}<br>1=%{y}<br>2=%{z}<extra></extra>",
         "legendgroup": "said",
         "marker": {
          "color": "#FFA15A",
          "symbol": "circle"
         },
         "mode": "markers",
         "name": "said",
         "scene": "scene",
         "showlegend": true,
         "type": "scatter3d",
         "x": [
          0.5539475679397583
         ],
         "y": [
          0.45662635564804077
         ],
         "z": [
          0.47509682178497314
         ]
        },
        {
         "hovertemplate": "color=my<br>0=%{x}<br>1=%{y}<br>2=%{z}<extra></extra>",
         "legendgroup": "my",
         "marker": {
          "color": "#19d3f3",
          "symbol": "circle"
         },
         "mode": "markers",
         "name": "my",
         "scene": "scene",
         "showlegend": true,
         "type": "scatter3d",
         "x": [
          0.5061872601509094
         ],
         "y": [
          0.49306270480155945
         ],
         "z": [
          0.16872219741344452
         ]
        },
        {
         "hovertemplate": "color=have<br>0=%{x}<br>1=%{y}<br>2=%{z}<extra></extra>",
         "legendgroup": "have",
         "marker": {
          "color": "#FF6692",
          "symbol": "circle"
         },
         "mode": "markers",
         "name": "have",
         "scene": "scene",
         "showlegend": true,
         "type": "scatter3d",
         "x": [
          0.41861459612846375
         ],
         "y": [
          0.6222700476646423
         ],
         "z": [
          0.11797238141298294
         ]
        },
        {
         "hovertemplate": "color=be<br>0=%{x}<br>1=%{y}<br>2=%{z}<extra></extra>",
         "legendgroup": "be",
         "marker": {
          "color": "#B6E880",
          "symbol": "circle"
         },
         "mode": "markers",
         "name": "be",
         "scene": "scene",
         "showlegend": true,
         "type": "scatter3d",
         "x": [
          0.41944265365600586
         ],
         "y": [
          0.6449318528175354
         ],
         "z": [
          0.1245611235499382
         ]
        },
        {
         "hovertemplate": "color=lord<br>0=%{x}<br>1=%{y}<br>2=%{z}<extra></extra>",
         "legendgroup": "lord",
         "marker": {
          "color": "#FF97FF",
          "symbol": "circle"
         },
         "mode": "markers",
         "name": "lord",
         "scene": "scene",
         "showlegend": true,
         "type": "scatter3d",
         "x": [
          0.4783574938774109
         ],
         "y": [
          0.43096959590911865
         ],
         "z": [
          0.07060441374778748
         ]
        },
        {
         "hovertemplate": "color=them<br>0=%{x}<br>1=%{y}<br>2=%{z}<extra></extra>",
         "legendgroup": "them",
         "marker": {
          "color": "#FECB52",
          "symbol": "circle"
         },
         "mode": "markers",
         "name": "them",
         "scene": "scene",
         "showlegend": true,
         "type": "scatter3d",
         "x": [
          0.01605282723903656
         ],
         "y": [
          0.6923640966415405
         ],
         "z": [
          -0.032767154276371
         ]
        },
        {
         "hovertemplate": "color=no<br>0=%{x}<br>1=%{y}<br>2=%{z}<extra></extra>",
         "legendgroup": "no",
         "marker": {
          "color": "#636efa",
          "symbol": "circle"
         },
         "mode": "markers",
         "name": "no",
         "scene": "scene",
         "showlegend": true,
         "type": "scatter3d",
         "x": [
          0.39497867226600647
         ],
         "y": [
          0.5345137715339661
         ],
         "z": [
          0.0914192795753479
         ]
        },
        {
         "hovertemplate": "color=from<br>0=%{x}<br>1=%{y}<br>2=%{z}<extra></extra>",
         "legendgroup": "from",
         "marker": {
          "color": "#EF553B",
          "symbol": "circle"
         },
         "mode": "markers",
         "name": "from",
         "scene": "scene",
         "showlegend": true,
         "type": "scatter3d",
         "x": [
          -0.18339195847511292
         ],
         "y": [
          0.46664148569107056
         ],
         "z": [
          0.14491765201091766
         ]
        },
        {
         "hovertemplate": "color=would<br>0=%{x}<br>1=%{y}<br>2=%{z}<extra></extra>",
         "legendgroup": "would",
         "marker": {
          "color": "#00cc96",
          "symbol": "circle"
         },
         "mode": "markers",
         "name": "would",
         "scene": "scene",
         "showlegend": true,
         "type": "scatter3d",
         "x": [
          0.41742533445358276
         ],
         "y": [
          0.5290862917900085
         ],
         "z": [
          0.22498629987239838
         ]
        },
        {
         "hovertemplate": "color=were<br>0=%{x}<br>1=%{y}<br>2=%{z}<extra></extra>",
         "legendgroup": "were",
         "marker": {
          "color": "#ab63fa",
          "symbol": "circle"
         },
         "mode": "markers",
         "name": "were",
         "scene": "scene",
         "showlegend": true,
         "type": "scatter3d",
         "x": [
          -0.021358255296945572
         ],
         "y": [
          0.48500651121139526
         ],
         "z": [
          0.008287235163152218
         ]
        },
        {
         "hovertemplate": "color=me<br>0=%{x}<br>1=%{y}<br>2=%{z}<extra></extra>",
         "legendgroup": "me",
         "marker": {
          "color": "#FFA15A",
          "symbol": "circle"
         },
         "mode": "markers",
         "name": "me",
         "scene": "scene",
         "showlegend": true,
         "type": "scatter3d",
         "x": [
          0.5073091387748718
         ],
         "y": [
          0.5861312747001648
         ],
         "z": [
          0.1899353712797165
         ]
        },
        {
         "hovertemplate": "color=your<br>0=%{x}<br>1=%{y}<br>2=%{z}<extra></extra>",
         "legendgroup": "your",
         "marker": {
          "color": "#19d3f3",
          "symbol": "circle"
         },
         "mode": "markers",
         "name": "your",
         "scene": "scene",
         "showlegend": true,
         "type": "scatter3d",
         "x": [
          0.46687230467796326
         ],
         "y": [
          0.4783080220222473
         ],
         "z": [
          0.16289383172988892
         ]
        },
        {
         "hovertemplate": "color=one<br>0=%{x}<br>1=%{y}<br>2=%{z}<extra></extra>",
         "legendgroup": "one",
         "marker": {
          "color": "#FF6692",
          "symbol": "circle"
         },
         "mode": "markers",
         "name": "one",
         "scene": "scene",
         "showlegend": true,
         "type": "scatter3d",
         "x": [
          0.06255101412534714
         ],
         "y": [
          0.5927527546882629
         ],
         "z": [
          0.11558203399181366
         ]
        },
        {
         "hovertemplate": "color=all<br>0=%{x}<br>1=%{y}<br>2=%{z}<extra></extra>",
         "legendgroup": "all",
         "marker": {
          "color": "#B6E880",
          "symbol": "circle"
         },
         "mode": "markers",
         "name": "all",
         "scene": "scene",
         "showlegend": true,
         "type": "scatter3d",
         "x": [
          0.23159237205982208
         ],
         "y": [
          0.6947363615036011
         ],
         "z": [
          -0.042446449398994446
         ]
        },
        {
         "hovertemplate": "color=when<br>0=%{x}<br>1=%{y}<br>2=%{z}<extra></extra>",
         "legendgroup": "when",
         "marker": {
          "color": "#FF97FF",
          "symbol": "circle"
         },
         "mode": "markers",
         "name": "when",
         "scene": "scene",
         "showlegend": true,
         "type": "scatter3d",
         "x": [
          0.13970372080802917
         ],
         "y": [
          0.5777472257614136
         ],
         "z": [
          0.29578015208244324
         ]
        },
        {
         "hovertemplate": "color=will<br>0=%{x}<br>1=%{y}<br>2=%{z}<extra></extra>",
         "legendgroup": "will",
         "marker": {
          "color": "#FECB52",
          "symbol": "circle"
         },
         "mode": "markers",
         "name": "will",
         "scene": "scene",
         "showlegend": true,
         "type": "scatter3d",
         "x": [
          0.5058160424232483
         ],
         "y": [
          0.5225313901901245
         ],
         "z": [
          0.16545939445495605
         ]
        },
        {
         "hovertemplate": "color=ser<br>0=%{x}<br>1=%{y}<br>2=%{z}<extra></extra>",
         "legendgroup": "ser",
         "marker": {
          "color": "#636efa",
          "symbol": "circle"
         },
         "mode": "markers",
         "name": "ser",
         "scene": "scene",
         "showlegend": true,
         "type": "scatter3d",
         "x": [
          0.40096360445022583
         ],
         "y": [
          0.28337299823760986
         ],
         "z": [
          0.11549930274486542
         ]
        },
        {
         "hovertemplate": "color=if<br>0=%{x}<br>1=%{y}<br>2=%{z}<extra></extra>",
         "legendgroup": "if",
         "marker": {
          "color": "#EF553B",
          "symbol": "circle"
         },
         "mode": "markers",
         "name": "if",
         "scene": "scene",
         "showlegend": true,
         "type": "scatter3d",
         "x": [
          0.4165042042732239
         ],
         "y": [
          0.6311518549919128
         ],
         "z": [
          0.28328216075897217
         ]
        },
        {
         "hovertemplate": "color=so<br>0=%{x}<br>1=%{y}<br>2=%{z}<extra></extra>",
         "legendgroup": "so",
         "marker": {
          "color": "#00cc96",
          "symbol": "circle"
         },
         "mode": "markers",
         "name": "so",
         "scene": "scene",
         "showlegend": true,
         "type": "scatter3d",
         "x": [
          0.18733452260494232
         ],
         "y": [
          0.5756418108940125
         ],
         "z": [
          0.26814648509025574
         ]
        },
        {
         "hovertemplate": "color=their<br>0=%{x}<br>1=%{y}<br>2=%{z}<extra></extra>",
         "legendgroup": "their",
         "marker": {
          "color": "#ab63fa",
          "symbol": "circle"
         },
         "mode": "markers",
         "name": "their",
         "scene": "scene",
         "showlegend": true,
         "type": "scatter3d",
         "x": [
          -0.050628114491701126
         ],
         "y": [
          0.527180016040802
         ],
         "z": [
          -0.20758956670761108
         ]
        },
        {
         "hovertemplate": "color=we<br>0=%{x}<br>1=%{y}<br>2=%{z}<extra></extra>",
         "legendgroup": "we",
         "marker": {
          "color": "#FFA15A",
          "symbol": "circle"
         },
         "mode": "markers",
         "name": "we",
         "scene": "scene",
         "showlegend": true,
         "type": "scatter3d",
         "x": [
          0.38258096575737
         ],
         "y": [
          0.7182443737983704
         ],
         "z": [
          -0.025688430294394493
         ]
        },
        {
         "hovertemplate": "color=could<br>0=%{x}<br>1=%{y}<br>2=%{z}<extra></extra>",
         "legendgroup": "could",
         "marker": {
          "color": "#19d3f3",
          "symbol": "circle"
         },
         "mode": "markers",
         "name": "could",
         "scene": "scene",
         "showlegend": true,
         "type": "scatter3d",
         "x": [
          0.11743815988302231
         ],
         "y": [
          0.47895297408103943
         ],
         "z": [
          0.2780011296272278
         ]
        },
        {
         "hovertemplate": "color=are<br>0=%{x}<br>1=%{y}<br>2=%{z}<extra></extra>",
         "legendgroup": "are",
         "marker": {
          "color": "#FF6692",
          "symbol": "circle"
         },
         "mode": "markers",
         "name": "are",
         "scene": "scene",
         "showlegend": true,
         "type": "scatter3d",
         "x": [
          0.42951884865760803
         ],
         "y": [
          0.5118875503540039
         ],
         "z": [
          -0.007883056998252869
         ]
        },
        {
         "hovertemplate": "color=man<br>0=%{x}<br>1=%{y}<br>2=%{z}<extra></extra>",
         "legendgroup": "man",
         "marker": {
          "color": "#B6E880",
          "symbol": "circle"
         },
         "mode": "markers",
         "name": "man",
         "scene": "scene",
         "showlegend": true,
         "type": "scatter3d",
         "x": [
          0.14208412170410156
         ],
         "y": [
          0.5101311802864075
         ],
         "z": [
          0.1508113145828247
         ]
        },
        {
         "hovertemplate": "color=there<br>0=%{x}<br>1=%{y}<br>2=%{z}<extra></extra>",
         "legendgroup": "there",
         "marker": {
          "color": "#FF97FF",
          "symbol": "circle"
         },
         "mode": "markers",
         "name": "there",
         "scene": "scene",
         "showlegend": true,
         "type": "scatter3d",
         "x": [
          0.10609796643257141
         ],
         "y": [
          0.6313309669494629
         ],
         "z": [
          0.004012242425233126
         ]
        },
        {
         "hovertemplate": "color=this<br>0=%{x}<br>1=%{y}<br>2=%{z}<extra></extra>",
         "legendgroup": "this",
         "marker": {
          "color": "#FECB52",
          "symbol": "circle"
         },
         "mode": "markers",
         "name": "this",
         "scene": "scene",
         "showlegend": true,
         "type": "scatter3d",
         "x": [
          0.4492766857147217
         ],
         "y": [
          0.6053155660629272
         ],
         "z": [
          0.11269523203372955
         ]
        }
       ],
       "layout": {
        "legend": {
         "title": {
          "text": "color"
         },
         "tracegroupgap": 0
        },
        "margin": {
         "t": 60
        },
        "scene": {
         "domain": {
          "x": [
           0,
           1
          ],
          "y": [
           0,
           1
          ]
         },
         "xaxis": {
          "title": {
           "text": "0"
          }
         },
         "yaxis": {
          "title": {
           "text": "1"
          }
         },
         "zaxis": {
          "title": {
           "text": "2"
          }
         }
        },
        "template": {
         "data": {
          "bar": [
           {
            "error_x": {
             "color": "#2a3f5f"
            },
            "error_y": {
             "color": "#2a3f5f"
            },
            "marker": {
             "line": {
              "color": "#E5ECF6",
              "width": 0.5
             },
             "pattern": {
              "fillmode": "overlay",
              "size": 10,
              "solidity": 0.2
             }
            },
            "type": "bar"
           }
          ],
          "barpolar": [
           {
            "marker": {
             "line": {
              "color": "#E5ECF6",
              "width": 0.5
             },
             "pattern": {
              "fillmode": "overlay",
              "size": 10,
              "solidity": 0.2
             }
            },
            "type": "barpolar"
           }
          ],
          "carpet": [
           {
            "aaxis": {
             "endlinecolor": "#2a3f5f",
             "gridcolor": "white",
             "linecolor": "white",
             "minorgridcolor": "white",
             "startlinecolor": "#2a3f5f"
            },
            "baxis": {
             "endlinecolor": "#2a3f5f",
             "gridcolor": "white",
             "linecolor": "white",
             "minorgridcolor": "white",
             "startlinecolor": "#2a3f5f"
            },
            "type": "carpet"
           }
          ],
          "choropleth": [
           {
            "colorbar": {
             "outlinewidth": 0,
             "ticks": ""
            },
            "type": "choropleth"
           }
          ],
          "contour": [
           {
            "colorbar": {
             "outlinewidth": 0,
             "ticks": ""
            },
            "colorscale": [
             [
              0,
              "#0d0887"
             ],
             [
              0.1111111111111111,
              "#46039f"
             ],
             [
              0.2222222222222222,
              "#7201a8"
             ],
             [
              0.3333333333333333,
              "#9c179e"
             ],
             [
              0.4444444444444444,
              "#bd3786"
             ],
             [
              0.5555555555555556,
              "#d8576b"
             ],
             [
              0.6666666666666666,
              "#ed7953"
             ],
             [
              0.7777777777777778,
              "#fb9f3a"
             ],
             [
              0.8888888888888888,
              "#fdca26"
             ],
             [
              1,
              "#f0f921"
             ]
            ],
            "type": "contour"
           }
          ],
          "contourcarpet": [
           {
            "colorbar": {
             "outlinewidth": 0,
             "ticks": ""
            },
            "type": "contourcarpet"
           }
          ],
          "heatmap": [
           {
            "colorbar": {
             "outlinewidth": 0,
             "ticks": ""
            },
            "colorscale": [
             [
              0,
              "#0d0887"
             ],
             [
              0.1111111111111111,
              "#46039f"
             ],
             [
              0.2222222222222222,
              "#7201a8"
             ],
             [
              0.3333333333333333,
              "#9c179e"
             ],
             [
              0.4444444444444444,
              "#bd3786"
             ],
             [
              0.5555555555555556,
              "#d8576b"
             ],
             [
              0.6666666666666666,
              "#ed7953"
             ],
             [
              0.7777777777777778,
              "#fb9f3a"
             ],
             [
              0.8888888888888888,
              "#fdca26"
             ],
             [
              1,
              "#f0f921"
             ]
            ],
            "type": "heatmap"
           }
          ],
          "heatmapgl": [
           {
            "colorbar": {
             "outlinewidth": 0,
             "ticks": ""
            },
            "colorscale": [
             [
              0,
              "#0d0887"
             ],
             [
              0.1111111111111111,
              "#46039f"
             ],
             [
              0.2222222222222222,
              "#7201a8"
             ],
             [
              0.3333333333333333,
              "#9c179e"
             ],
             [
              0.4444444444444444,
              "#bd3786"
             ],
             [
              0.5555555555555556,
              "#d8576b"
             ],
             [
              0.6666666666666666,
              "#ed7953"
             ],
             [
              0.7777777777777778,
              "#fb9f3a"
             ],
             [
              0.8888888888888888,
              "#fdca26"
             ],
             [
              1,
              "#f0f921"
             ]
            ],
            "type": "heatmapgl"
           }
          ],
          "histogram": [
           {
            "marker": {
             "pattern": {
              "fillmode": "overlay",
              "size": 10,
              "solidity": 0.2
             }
            },
            "type": "histogram"
           }
          ],
          "histogram2d": [
           {
            "colorbar": {
             "outlinewidth": 0,
             "ticks": ""
            },
            "colorscale": [
             [
              0,
              "#0d0887"
             ],
             [
              0.1111111111111111,
              "#46039f"
             ],
             [
              0.2222222222222222,
              "#7201a8"
             ],
             [
              0.3333333333333333,
              "#9c179e"
             ],
             [
              0.4444444444444444,
              "#bd3786"
             ],
             [
              0.5555555555555556,
              "#d8576b"
             ],
             [
              0.6666666666666666,
              "#ed7953"
             ],
             [
              0.7777777777777778,
              "#fb9f3a"
             ],
             [
              0.8888888888888888,
              "#fdca26"
             ],
             [
              1,
              "#f0f921"
             ]
            ],
            "type": "histogram2d"
           }
          ],
          "histogram2dcontour": [
           {
            "colorbar": {
             "outlinewidth": 0,
             "ticks": ""
            },
            "colorscale": [
             [
              0,
              "#0d0887"
             ],
             [
              0.1111111111111111,
              "#46039f"
             ],
             [
              0.2222222222222222,
              "#7201a8"
             ],
             [
              0.3333333333333333,
              "#9c179e"
             ],
             [
              0.4444444444444444,
              "#bd3786"
             ],
             [
              0.5555555555555556,
              "#d8576b"
             ],
             [
              0.6666666666666666,
              "#ed7953"
             ],
             [
              0.7777777777777778,
              "#fb9f3a"
             ],
             [
              0.8888888888888888,
              "#fdca26"
             ],
             [
              1,
              "#f0f921"
             ]
            ],
            "type": "histogram2dcontour"
           }
          ],
          "mesh3d": [
           {
            "colorbar": {
             "outlinewidth": 0,
             "ticks": ""
            },
            "type": "mesh3d"
           }
          ],
          "parcoords": [
           {
            "line": {
             "colorbar": {
              "outlinewidth": 0,
              "ticks": ""
             }
            },
            "type": "parcoords"
           }
          ],
          "pie": [
           {
            "automargin": true,
            "type": "pie"
           }
          ],
          "scatter": [
           {
            "fillpattern": {
             "fillmode": "overlay",
             "size": 10,
             "solidity": 0.2
            },
            "type": "scatter"
           }
          ],
          "scatter3d": [
           {
            "line": {
             "colorbar": {
              "outlinewidth": 0,
              "ticks": ""
             }
            },
            "marker": {
             "colorbar": {
              "outlinewidth": 0,
              "ticks": ""
             }
            },
            "type": "scatter3d"
           }
          ],
          "scattercarpet": [
           {
            "marker": {
             "colorbar": {
              "outlinewidth": 0,
              "ticks": ""
             }
            },
            "type": "scattercarpet"
           }
          ],
          "scattergeo": [
           {
            "marker": {
             "colorbar": {
              "outlinewidth": 0,
              "ticks": ""
             }
            },
            "type": "scattergeo"
           }
          ],
          "scattergl": [
           {
            "marker": {
             "colorbar": {
              "outlinewidth": 0,
              "ticks": ""
             }
            },
            "type": "scattergl"
           }
          ],
          "scattermapbox": [
           {
            "marker": {
             "colorbar": {
              "outlinewidth": 0,
              "ticks": ""
             }
            },
            "type": "scattermapbox"
           }
          ],
          "scatterpolar": [
           {
            "marker": {
             "colorbar": {
              "outlinewidth": 0,
              "ticks": ""
             }
            },
            "type": "scatterpolar"
           }
          ],
          "scatterpolargl": [
           {
            "marker": {
             "colorbar": {
              "outlinewidth": 0,
              "ticks": ""
             }
            },
            "type": "scatterpolargl"
           }
          ],
          "scatterternary": [
           {
            "marker": {
             "colorbar": {
              "outlinewidth": 0,
              "ticks": ""
             }
            },
            "type": "scatterternary"
           }
          ],
          "surface": [
           {
            "colorbar": {
             "outlinewidth": 0,
             "ticks": ""
            },
            "colorscale": [
             [
              0,
              "#0d0887"
             ],
             [
              0.1111111111111111,
              "#46039f"
             ],
             [
              0.2222222222222222,
              "#7201a8"
             ],
             [
              0.3333333333333333,
              "#9c179e"
             ],
             [
              0.4444444444444444,
              "#bd3786"
             ],
             [
              0.5555555555555556,
              "#d8576b"
             ],
             [
              0.6666666666666666,
              "#ed7953"
             ],
             [
              0.7777777777777778,
              "#fb9f3a"
             ],
             [
              0.8888888888888888,
              "#fdca26"
             ],
             [
              1,
              "#f0f921"
             ]
            ],
            "type": "surface"
           }
          ],
          "table": [
           {
            "cells": {
             "fill": {
              "color": "#EBF0F8"
             },
             "line": {
              "color": "white"
             }
            },
            "header": {
             "fill": {
              "color": "#C8D4E3"
             },
             "line": {
              "color": "white"
             }
            },
            "type": "table"
           }
          ]
         },
         "layout": {
          "annotationdefaults": {
           "arrowcolor": "#2a3f5f",
           "arrowhead": 0,
           "arrowwidth": 1
          },
          "autotypenumbers": "strict",
          "coloraxis": {
           "colorbar": {
            "outlinewidth": 0,
            "ticks": ""
           }
          },
          "colorscale": {
           "diverging": [
            [
             0,
             "#8e0152"
            ],
            [
             0.1,
             "#c51b7d"
            ],
            [
             0.2,
             "#de77ae"
            ],
            [
             0.3,
             "#f1b6da"
            ],
            [
             0.4,
             "#fde0ef"
            ],
            [
             0.5,
             "#f7f7f7"
            ],
            [
             0.6,
             "#e6f5d0"
            ],
            [
             0.7,
             "#b8e186"
            ],
            [
             0.8,
             "#7fbc41"
            ],
            [
             0.9,
             "#4d9221"
            ],
            [
             1,
             "#276419"
            ]
           ],
           "sequential": [
            [
             0,
             "#0d0887"
            ],
            [
             0.1111111111111111,
             "#46039f"
            ],
            [
             0.2222222222222222,
             "#7201a8"
            ],
            [
             0.3333333333333333,
             "#9c179e"
            ],
            [
             0.4444444444444444,
             "#bd3786"
            ],
            [
             0.5555555555555556,
             "#d8576b"
            ],
            [
             0.6666666666666666,
             "#ed7953"
            ],
            [
             0.7777777777777778,
             "#fb9f3a"
            ],
            [
             0.8888888888888888,
             "#fdca26"
            ],
            [
             1,
             "#f0f921"
            ]
           ],
           "sequentialminus": [
            [
             0,
             "#0d0887"
            ],
            [
             0.1111111111111111,
             "#46039f"
            ],
            [
             0.2222222222222222,
             "#7201a8"
            ],
            [
             0.3333333333333333,
             "#9c179e"
            ],
            [
             0.4444444444444444,
             "#bd3786"
            ],
            [
             0.5555555555555556,
             "#d8576b"
            ],
            [
             0.6666666666666666,
             "#ed7953"
            ],
            [
             0.7777777777777778,
             "#fb9f3a"
            ],
            [
             0.8888888888888888,
             "#fdca26"
            ],
            [
             1,
             "#f0f921"
            ]
           ]
          },
          "colorway": [
           "#636efa",
           "#EF553B",
           "#00cc96",
           "#ab63fa",
           "#FFA15A",
           "#19d3f3",
           "#FF6692",
           "#B6E880",
           "#FF97FF",
           "#FECB52"
          ],
          "font": {
           "color": "#2a3f5f"
          },
          "geo": {
           "bgcolor": "white",
           "lakecolor": "white",
           "landcolor": "#E5ECF6",
           "showlakes": true,
           "showland": true,
           "subunitcolor": "white"
          },
          "hoverlabel": {
           "align": "left"
          },
          "hovermode": "closest",
          "mapbox": {
           "style": "light"
          },
          "paper_bgcolor": "white",
          "plot_bgcolor": "#E5ECF6",
          "polar": {
           "angularaxis": {
            "gridcolor": "white",
            "linecolor": "white",
            "ticks": ""
           },
           "bgcolor": "#E5ECF6",
           "radialaxis": {
            "gridcolor": "white",
            "linecolor": "white",
            "ticks": ""
           }
          },
          "scene": {
           "xaxis": {
            "backgroundcolor": "#E5ECF6",
            "gridcolor": "white",
            "gridwidth": 2,
            "linecolor": "white",
            "showbackground": true,
            "ticks": "",
            "zerolinecolor": "white"
           },
           "yaxis": {
            "backgroundcolor": "#E5ECF6",
            "gridcolor": "white",
            "gridwidth": 2,
            "linecolor": "white",
            "showbackground": true,
            "ticks": "",
            "zerolinecolor": "white"
           },
           "zaxis": {
            "backgroundcolor": "#E5ECF6",
            "gridcolor": "white",
            "gridwidth": 2,
            "linecolor": "white",
            "showbackground": true,
            "ticks": "",
            "zerolinecolor": "white"
           }
          },
          "shapedefaults": {
           "line": {
            "color": "#2a3f5f"
           }
          },
          "ternary": {
           "aaxis": {
            "gridcolor": "white",
            "linecolor": "white",
            "ticks": ""
           },
           "baxis": {
            "gridcolor": "white",
            "linecolor": "white",
            "ticks": ""
           },
           "bgcolor": "#E5ECF6",
           "caxis": {
            "gridcolor": "white",
            "linecolor": "white",
            "ticks": ""
           }
          },
          "title": {
           "x": 0.05
          },
          "xaxis": {
           "automargin": true,
           "gridcolor": "white",
           "linecolor": "white",
           "ticks": "",
           "title": {
            "standoff": 15
           },
           "zerolinecolor": "white",
           "zerolinewidth": 2
          },
          "yaxis": {
           "automargin": true,
           "gridcolor": "white",
           "linecolor": "white",
           "ticks": "",
           "title": {
            "standoff": 15
           },
           "zerolinecolor": "white",
           "zerolinewidth": 2
          }
         }
        }
       }
      }
     },
     "metadata": {},
     "output_type": "display_data"
    }
   ],
   "source": [
    "import plotly.express as px\n",
    "# fig = px.scatter_3d(X[: 500], x=0, y=1, z=2, color=y[:500]) # plot max 100 words together otherwise required more computational\n",
    "fig = px.scatter_3d(X[: 50], x=0, y=1, z=2, color=y[:50])\n",
    "fig.show()"
   ]
  },
  {
   "cell_type": "code",
   "execution_count": null,
   "metadata": {},
   "outputs": [],
   "source": []
  }
 ],
 "metadata": {
  "kernelspec": {
   "display_name": "Python 3",
   "language": "python",
   "name": "python3"
  },
  "language_info": {
   "codemirror_mode": {
    "name": "ipython",
    "version": 3
   },
   "file_extension": ".py",
   "mimetype": "text/x-python",
   "name": "python",
   "nbconvert_exporter": "python",
   "pygments_lexer": "ipython3",
   "version": "3.10.11"
  },
  "orig_nbformat": 4
 },
 "nbformat": 4,
 "nbformat_minor": 2
}
